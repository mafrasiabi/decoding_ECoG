{
 "cells": [
  {
   "cell_type": "code",
   "execution_count": 15,
   "metadata": {},
   "outputs": [],
   "source": [
    "import numpy as np\n",
    "import tensorflow as tf \n",
    "import csv\n",
    "import pandas as pd\n",
    "import sklearn\n",
    "import matplotlib.pyplot as plt\n",
    "import itertools\n",
    "from sklearn.metrics import accuracy_score, confusion_matrix\n",
    "from sklearn.model_selection import train_test_split\n",
    "from sklearn.utils import shuffle\n",
    "from sklearn.neighbors import KNeighborsClassifier\n",
    "from sklearn.ensemble import RandomForestClassifier"
   ]
  },
  {
   "cell_type": "code",
   "execution_count": 10,
   "metadata": {},
   "outputs": [],
   "source": [
    "def plot_confusion_matrix(cm, classes,\n",
    "                          normalize=False,\n",
    "                          title='Confusion matrix',\n",
    "                          cmap=plt.cm.Blues):\n",
    "    if normalize:\n",
    "        cm = cm.astype('float') / cm.sum(axis=1)[:, np.newaxis]\n",
    "\n",
    "\n",
    "    plt.imshow(cm, interpolation='nearest', cmap=cmap)\n",
    "    plt.title(title)\n",
    "    plt.colorbar()\n",
    "    tick_marks = np.arange(len(classes))\n",
    "    plt.xticks(tick_marks, classes, rotation=45)\n",
    "    plt.yticks(tick_marks, classes)\n",
    "\n",
    "    fmt = '.2f' if normalize else 'd'\n",
    "    thresh = cm.max() / 2.\n",
    "    for i, j in itertools.product(range(cm.shape[0]), range(cm.shape[1])):\n",
    "        plt.text(j, i, format(cm[i, j], fmt),\n",
    "                 horizontalalignment=\"center\",\n",
    "                 color=\"white\" if cm[i, j] > thresh else \"black\")\n",
    "\n",
    "    plt.tight_layout()\n",
    "    plt.ylabel('True label')\n",
    "    plt.xlabel('Predicted label')"
   ]
  },
  {
   "cell_type": "code",
   "execution_count": 2,
   "metadata": {},
   "outputs": [
    {
     "data": {
      "text/plain": [
       "(2874, 1202)"
      ]
     },
     "execution_count": 2,
     "metadata": {},
     "output_type": "execute_result"
    }
   ],
   "source": [
    "data2 =  pd.read_csv('data_t2.csv')\n",
    "data2 = shuffle(data2)\n",
    "data2.shape"
   ]
  },
  {
   "cell_type": "code",
   "execution_count": 24,
   "metadata": {},
   "outputs": [],
   "source": [
    "train, test =train_test_split(data2, test_size=0.2)\n",
    "\n",
    "train = np.asarray(train)\n",
    "test = np.asarray(test)\n",
    "\n",
    "xtr = train[:, 0:1200]\n",
    "ytr = train[:, 1201]\n",
    "\n",
    "xts = test[:, 0:1200]\n",
    "yts = test[:, 1201]\n",
    "\n",
    "full_feat = xtr.shape[1]\n",
    "red_scale = 10\n",
    "red_feat = full_feat/red_scale"
   ]
  },
  {
   "cell_type": "code",
   "execution_count": 25,
   "metadata": {},
   "outputs": [],
   "source": [
    "xtrsp = np.hsplit(xtr,red_scale)\n",
    "xtssp = np.hsplit(xts,red_scale)"
   ]
  },
  {
   "cell_type": "code",
   "execution_count": 26,
   "metadata": {},
   "outputs": [],
   "source": [
    "xtrs = np.asarray([np.mean(xtrsp[i],axis =1) for i in range (red_scale)]).T\n",
    "xtss = np.asarray([np.mean(xtssp[i],axis =1) for i in range (red_scale)]).T"
   ]
  },
  {
   "cell_type": "code",
   "execution_count": 27,
   "metadata": {},
   "outputs": [],
   "source": [
    "tr_mean = np.mean(xtrs, axis=0)\n",
    "tr_std = np.std(xtrs, axis = 0,dtype=np.float64)\n",
    "xtr_p = (xtrs - tr_mean[None,:])/tr_std[None,:]\n",
    "\n",
    "ts_mean = np.mean(xtss, axis=0)\n",
    "ts_std = np.std(xtss, axis = 0,dtype=np.float64)\n",
    "xts_p = (xtss - ts_mean[None,:])/ts_std[None,:]\n",
    "\n",
    "n_classes = 4\n",
    "n_labels= np.unique(ytr)\n",
    "\n",
    "label_binarizer = sklearn.preprocessing.LabelEncoder()\n",
    "label_binarizer.fit(n_labels)\n",
    "\n",
    "yohtr = label_binarizer.transform(ytr)\n",
    "yohts = label_binarizer.transform(yts)"
   ]
  },
  {
   "cell_type": "code",
   "execution_count": 28,
   "metadata": {},
   "outputs": [
    {
     "data": {
      "text/plain": [
       "0.33565217391304347"
      ]
     },
     "execution_count": 28,
     "metadata": {},
     "output_type": "execute_result"
    }
   ],
   "source": [
    "rf_class = RandomForestClassifier(n_estimators=1000)\n",
    "pred_rf = rf_class.fit(xtr_p, yohtr).predict(xts_p)\n",
    "accuracy_score(yohts, pred_rf)"
   ]
  },
  {
   "cell_type": "code",
   "execution_count": 29,
   "metadata": {},
   "outputs": [
    {
     "data": {
      "image/png": "[encoded data removed]",
      "text/plain": [
       "<matplotlib.figure.Figure at 0x1b1a76db4a8>"
      ]
     },
     "metadata": {},
     "output_type": "display_data"
    }
   ],
   "source": [
    "cnf_matrix1 = confusion_matrix(yts, label_binarizer.inverse_transform(pred_rf))\n",
    "np.set_printoptions(precision=2)\n",
    "\n",
    "plt.figure(figsize=(7, 7))\n",
    "plot_confusion_matrix(cnf_matrix1,normalize=True, classes=n_labels,title='Confusion matrix, with normalization')\n",
    "plt.show()"
   ]
  },
  {
   "cell_type": "code",
   "execution_count": 15,
   "metadata": {},
   "outputs": [
    {
     "data": {
      "text/plain": [
       "0.29565217391304349"
      ]
     },
     "execution_count": 15,
     "metadata": {},
     "output_type": "execute_result"
    }
   ],
   "source": [
    "# knn_class = KNeighborsClassifier()\n",
    "# pred_kn = knn_class.fit(xtrs, ytr).predict(xtss)\n",
    "# accuracy_score(yts, pred_kn)"
   ]
  },
  {
   "cell_type": "code",
   "execution_count": null,
   "metadata": {},
   "outputs": [],
   "source": []
  }
 ],
 "metadata": {
  "kernelspec": {
   "display_name": "Python 3",
   "language": "python",
   "name": "python3"
  },
  "language_info": {
   "codemirror_mode": {
    "name": "ipython",
    "version": 3
   },
   "file_extension": ".py",
   "mimetype": "text/x-python",
   "name": "python",
   "nbconvert_exporter": "python",
   "pygments_lexer": "ipython3",
   "version": "3.5.2"
  }
 },
 "nbformat": 4,
 "nbformat_minor": 2
}
