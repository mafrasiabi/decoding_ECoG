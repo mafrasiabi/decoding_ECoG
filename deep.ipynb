{
 "cells": [
  {
   "cell_type": "code",
   "execution_count": 32,
   "metadata": {},
   "outputs": [],
   "source": [
    "import numpy as np\n",
    "import tensorflow as tf \n",
    "import csv\n",
    "import pandas as pd\n",
    "import sklearn\n",
    "from sklearn.model_selection import train_test_split\n",
    "from sklearn.utils import shuffle"
   ]
  },
  {
   "cell_type": "code",
   "execution_count": 20,
   "metadata": {},
   "outputs": [
    {
     "data": {
      "text/plain": [
       "(5748, 1202)"
      ]
     },
     "execution_count": 20,
     "metadata": {},
     "output_type": "execute_result"
    }
   ],
   "source": [
    "data =  pd.read_csv('data_t1.csv')\n",
    "data = shuffle(data)\n",
    "data.shape"
   ]
  },
  {
   "cell_type": "code",
   "execution_count": 80,
   "metadata": {},
   "outputs": [],
   "source": [
    "train, test =train_test_split(data, test_size=0.2)\n",
    "\n",
    "train = np.asarray(train)\n",
    "test = np.asarray(test)\n",
    "\n",
    "xtr = train[:, 0:1201]\n",
    "ytr = train[:, 1201]\n",
    "\n",
    "xts = test[:, 0:1201]\n",
    "yts = test[:, 1201]"
   ]
  },
  {
   "cell_type": "code",
   "execution_count": 67,
   "metadata": {},
   "outputs": [],
   "source": [
    "n_classes = 8 \n",
    "\n",
    "label_binarizer = sklearn.preprocessing.LabelBinarizer()\n",
    "label_binarizer.fit(range(n_classes))\n",
    "\n",
    "yohtr = label_binarizer.transform(ytr)\n",
    "yohts = label_binarizer.transform(yts)\n"
   ]
  },
  {
   "cell_type": "code",
   "execution_count": 68,
   "metadata": {},
   "outputs": [
    {
     "data": {
      "text/plain": [
       "(4598, 8)"
      ]
     },
     "execution_count": 68,
     "metadata": {},
     "output_type": "execute_result"
    }
   ],
   "source": [
    "yohtr.shape"
   ]
  },
  {
   "cell_type": "code",
   "execution_count": 101,
   "metadata": {},
   "outputs": [],
   "source": [
    "tr = int(0.8*data.shape[0])\n",
    "\n",
    "n_nodes_hl1 = 50\n",
    "n_nodes_hl2 = 50\n",
    "n_nodes_hl3 = 50\n",
    "\n",
    "n_classes = 8\n",
    "batch_size = 200 # the number of training examples in one forward/backward pass\n",
    "\n",
    "x = tf.placeholder('float' ,[None,1201])\n",
    "y = tf.placeholder('float',[None,n_classes])"
   ]
  },
  {
   "cell_type": "code",
   "execution_count": 102,
   "metadata": {},
   "outputs": [],
   "source": [
    "def neural_network_model(data):\n",
    "\n",
    "    # initializing weights and biases for the hidden layers and the output layer\n",
    "    hidden_l1 = {'weights': tf.Variable(tf.random_normal([1201,n_nodes_hl1])), \n",
    "                 'biases':tf.Variable(tf.random_normal([n_nodes_hl1]))}\n",
    "\n",
    "    hidden_l2 = {'weights': tf.Variable(tf.random_normal([n_nodes_hl1,n_nodes_hl2])), \n",
    "                 'biases':tf.Variable(tf.random_normal([n_nodes_hl2]))}\n",
    "\n",
    "    hidden_l3 = {'weights': tf.Variable(tf.random_normal([n_nodes_hl2,n_nodes_hl3])), \n",
    "                 'biases':tf.Variable(tf.random_normal([n_nodes_hl3]))}\n",
    "\n",
    "    output_l = {'weights': tf.Variable(tf.random_normal([n_nodes_hl3,n_classes])), \n",
    "                 'biases':tf.Variable(tf.random_normal([n_classes]))}\n",
    "\n",
    "    # computing the ouput of each layer and applying a non-linearity at the end of each layer computation\n",
    "    l1 = tf.add(tf.matmul(data, hidden_l1['weights']), hidden_l1['biases'])\n",
    "    l1 = tf.nn.relu(l1)\n",
    "\n",
    "    l2 = tf.add(tf.matmul(l1, hidden_l2['weights']), hidden_l2['biases'])\n",
    "    l2 = tf.nn.relu(l2)\n",
    "\n",
    "    l3 = tf.add(tf.matmul(l2, hidden_l3['weights']), hidden_l3['biases'])\n",
    "    l3 = tf.nn.relu(l3)\n",
    "\n",
    "    output = tf.add(tf.matmul(l3, output_l['weights']), output_l['biases'])\n",
    "\n",
    "    return output\n"
   ]
  },
  {
   "cell_type": "code",
   "execution_count": 103,
   "metadata": {},
   "outputs": [
    {
     "name": "stdout",
     "output_type": "stream",
     "text": [
      "Epoch 0 completed out of 10 loss: 0.0\n",
      "Epoch 1 completed out of 10 loss: 0.0\n",
      "Epoch 2 completed out of 10 loss: 0.0\n",
      "Epoch 3 completed out of 10 loss: 0.0\n",
      "Epoch 4 completed out of 10 loss: 0.0\n",
      "Epoch 5 completed out of 10 loss: 0.0\n",
      "Epoch 6 completed out of 10 loss: 0.0\n",
      "Epoch 7 completed out of 10 loss: 0.0\n",
      "Epoch 8 completed out of 10 loss: 0.0\n",
      "Epoch 9 completed out of 10 loss: 0.0\n",
      "Accuracy: 0.0252174\n"
     ]
    }
   ],
   "source": [
    "def train_neural_network(x):\n",
    "    prediction = neural_network_model(x)\n",
    "    cost = tf.reduce_mean(tf.nn.softmax_cross_entropy_with_logits(logits=prediction, labels=y))\n",
    "\n",
    "    # learning rate = 0.001\n",
    "    optimizer = tf.train.AdamOptimizer().minimize(cost)\n",
    "\n",
    "    # one epoch = one cycle of feed-forward and backprop\n",
    "    n_epochs = 10\n",
    "    \n",
    "    with tf.Session() as sess:\n",
    "        sess.run(tf.global_variables_initializer())\n",
    "        for epoch in range(n_epochs):\n",
    "            epoch_loss = 0\n",
    "            for index, offset in enumerate(range(0, tr, batch_size)):\n",
    "                x_epoch, y_epoch = np.array(xtr[offset:offset + batch_size,:]), np.array(yohtr[offset:offset + batch_size])\n",
    "                _, c = sess.run([optimizer, cost], feed_dict ={x:x_epoch, y:y_epoch}) \n",
    "                epoch_loss +=c\n",
    "            print ('Epoch', epoch, 'completed out of', n_epochs, 'loss:', epoch_loss)\n",
    "\n",
    "        correct = tf.equal(tf.argmax(prediction,1), tf.argmax(y,1))\n",
    "        accuracy  = tf.reduce_mean(tf.cast(correct, 'float'))\n",
    "        print('Accuracy:', accuracy.eval({x:xts, y:yohts}))\n",
    "        \n",
    "#         prediction_fin=tf.argmax(prediction,1)\n",
    "#         test_pred = (np.asarray(sess.run([prediction_fin],feed_dict={x:xts})).T)\n",
    "                              \n",
    "#         pred_pd = pd.read_csv(csv_test, index_col = 0)\n",
    "#         pred_pd['label'] =test_pred\n",
    "#         pred_pd.to_csv(csv_predicted)\n",
    "#         print('Test:',test_pred)\n",
    "        \n",
    "train_neural_network(x)"
   ]
  },
  {
   "cell_type": "code",
   "execution_count": null,
   "metadata": {},
   "outputs": [],
   "source": []
  },
  {
   "cell_type": "code",
   "execution_count": null,
   "metadata": {},
   "outputs": [],
   "source": []
  }
 ],
 "metadata": {
  "kernelspec": {
   "display_name": "Python 3",
   "language": "python",
   "name": "python3"
  },
  "language_info": {
   "codemirror_mode": {
    "name": "ipython",
    "version": 3
   },
   "file_extension": ".py",
   "mimetype": "text/x-python",
   "name": "python",
   "nbconvert_exporter": "python",
   "pygments_lexer": "ipython3",
   "version": "3.5.2"
  }
 },
 "nbformat": 4,
 "nbformat_minor": 2
}
